{
 "cells": [
  {
   "cell_type": "code",
   "execution_count": 3,
   "metadata": {},
   "outputs": [],
   "source": [
    "from pathlib import Path\n",
    "import pandas as pd\n",
    "from partitura.io.musescore import find_musescore\n",
    "import subprocess"
   ]
  },
  {
   "cell_type": "code",
   "execution_count": null,
   "metadata": {},
   "outputs": [],
   "source": [
    "# open the generic tsv file in pandas\n",
    "with open(Path(r\"path/to/romantic_piano_corpus.metadata.tsv\")) as f:\n",
    "    romantic_df = pd.read_csv(f, sep='\\t')"
   ]
  },
  {
   "cell_type": "code",
   "execution_count": 6,
   "metadata": {},
   "outputs": [],
   "source": [
    "# open the debussy tsv file in pandas\n",
    "with open(Path(r\"path/to/debussy/concatenated_metadata.tsv\")) as f:\n",
    "    debussy_df = pd.read_csv(f, sep='\\t')"
   ]
  },
  {
   "cell_type": "code",
   "execution_count": null,
   "metadata": {},
   "outputs": [],
   "source": [
    "# open the mozart tsv file in pandas\n",
    "with open(Path(r\"path/to/mozart/metadata.tsv\")) as f:\n",
    "    mozart_df = pd.read_csv(f, sep='\\t')"
   ]
  },
  {
   "cell_type": "markdown",
   "metadata": {},
   "source": [
    "# Merge the datasets and convert to musicxml\n",
    "\n",
    "The three datasets above contains all non-overlapping pieces, except the `debussy_suite_bergamasque`, which is both in the debussy and romantic corpus.\n",
    "We need to avoid duplicating it."
   ]
  },
  {
   "cell_type": "code",
   "execution_count": 1,
   "metadata": {},
   "outputs": [],
   "source": [
    "def convert_with_musescore(input_path, output_path, mscore_exec):\n",
    "    cmd = [mscore_exec, \"-o\", output_path, input_path, \"-f\"]\n",
    "    ps = subprocess.run(cmd, stdout=subprocess.DEVNULL, stderr=subprocess.PIPE)\n",
    "    if ps.returncode != 0:\n",
    "        print(\"Command {} failed with code {}. MuseScore \" \"error messages:\\n {}\").format(cmd, ps.returncode, ps.stderr.decode(\"UTF-8\"))"
   ]
  },
  {
   "cell_type": "code",
   "execution_count": null,
   "metadata": {},
   "outputs": [],
   "source": [
    "romantic_basepath = r\"path/to/romantic_piano_corpus\"\n",
    "debussy_basepath = r\"path/to/debussy_piano\"\n",
    "mozart_basepath = r\"path/to/mozart_piano_sonatas\"\n",
    "\n",
    "musescore = find_musescore()\n",
    "print(musescore)\n",
    "\n",
    "# iterate through debussy_df\n",
    "for i,row in debussy_df.iterrows():\n",
    "    in_path = str(Path(debussy_basepath,row['corpus'],\"MS3\",row['fname']+\".mscx\"))\n",
    "    out_path = str(Path(r\"C:\\Users\\fosca\\Desktop\\JKU\\piano_corpora_dcml\\scores\\debussy_corpus\",row['fname']+\".musicxml\"))\n",
    "    # add out folder path if it does not exist\n",
    "    if not Path(out_path).parent.exists():\n",
    "        Path(out_path).parent.mkdir(parents=True)\n",
    "    # convert to musicxml using musescore\n",
    "    convert_with_musescore(in_path,out_path,musescore)\n",
    "    print(\"Piece converted\",row['corpus'],row['fname'],out_path)\n",
    "\n",
    "# iterate through romantic_df\n",
    "for i,row in romantic_df.iterrows():\n",
    "    # exclude debussy_suite_bergamasque since it is already included in the debussy corpus\n",
    "    if row[\"corpus\"]!= \"debussy_suite_bergamasque\":\n",
    "        in_path = str(Path(romantic_basepath,row['corpus'],\"MS3\",row['piece']+\".mscx\"))\n",
    "        out_path = str(Path(r\"C:\\Users\\fosca\\Desktop\\JKU\\piano_corpora_dcml\\scores\",row['corpus'],row['piece']+\".musicxml\"))\n",
    "        # add out folder path if it does not exist\n",
    "        if not Path(out_path).parent.exists():\n",
    "            Path(out_path).parent.mkdir(parents=True)\n",
    "        # convert to musicxml using musescore\n",
    "        convert_with_musescore(in_path,out_path,musescore)\n",
    "        print(\"Piece converted\",row['corpus'],row['piece'],out_path)\n",
    "\n",
    "# iterate through mozart_df\n",
    "for i,row in mozart_df.iterrows():\n",
    "    in_path = str(Path(mozart_basepath,\"MS3\",row['fname']+\".mscx\"))\n",
    "    out_path = str(Path(r\"C:\\Users\\fosca\\Desktop\\JKU\\piano_corpora_dcml\\scores\\mozart_sonatas\",row['fname']+\".musicxml\"))\n",
    "    # add out folder path if it does not exist\n",
    "    if not Path(out_path).parent.exists():\n",
    "        Path(out_path).parent.mkdir(parents=True)\n",
    "    # convert to musicxml using musescore\n",
    "    convert_with_musescore(in_path,out_path,musescore)\n",
    "    print(\"Piece converted\",row['fname'],out_path)"
   ]
  },
  {
   "cell_type": "markdown",
   "metadata": {},
   "source": [
    "# Check if the scores are parsable by partitura"
   ]
  },
  {
   "cell_type": "code",
   "execution_count": 4,
   "metadata": {},
   "outputs": [],
   "source": [
    "import partitura as pt\n",
    "from pathlib import Path\n",
    "import warnings\n",
    "warnings.filterwarnings(\"ignore\")"
   ]
  },
  {
   "cell_type": "code",
   "execution_count": 5,
   "metadata": {},
   "outputs": [],
   "source": [
    "counter = 0\n",
    "total_counter= 0\n",
    "\n",
    "for folder in Path(\"scores\").iterdir():\n",
    "    for score in folder.iterdir():\n",
    "        total_counter += 1\n",
    "        try:\n",
    "            score = pt.load_score(str(score))\n",
    "            counter += 1\n",
    "        except Exception as e:\n",
    "            print(\"!!!!!!!!!!!!!!!!!!!!!!!!!!!!!!!!!!!!!!!!!!!!!!!!!!!!!!!!!!!!!!!Error in score:\", score)\n",
    "            print(e)\n",
    "\n",
    "\n",
    "print(\"Number of parsable scores :\", counter)\n",
    "print(\"Total number of scores:\", total_counter)"
   ]
  }
 ],
 "metadata": {
  "kernelspec": {
   "display_name": "mir_research",
   "language": "python",
   "name": "python3"
  },
  "language_info": {
   "codemirror_mode": {
    "name": "ipython",
    "version": 3
   },
   "file_extension": ".py",
   "mimetype": "text/x-python",
   "name": "python",
   "nbconvert_exporter": "python",
   "pygments_lexer": "ipython3",
   "version": "3.9.16"
  },
  "orig_nbformat": 4
 },
 "nbformat": 4,
 "nbformat_minor": 2
}
